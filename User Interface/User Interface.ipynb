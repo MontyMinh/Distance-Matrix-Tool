{
 "cells": [
  {
   "cell_type": "code",
   "execution_count": 1,
   "id": "db5a508c",
   "metadata": {},
   "outputs": [],
   "source": [
    "import sys"
   ]
  },
  {
   "cell_type": "code",
   "execution_count": 2,
   "id": "c78d190b",
   "metadata": {},
   "outputs": [],
   "source": [
    "sys.path.append(\"C:\\\\Users\\\\monty.minh\\\\Documents\\\\Distance-Matrix-Tool\\\\\")\n",
    "\n",
    "from dmt.distances import *"
   ]
  },
  {
   "cell_type": "code",
   "execution_count": 3,
   "id": "41f1f30e",
   "metadata": {},
   "outputs": [],
   "source": [
    "from tkinter import *\n",
    "from tkinter.ttk import *\n",
    "from tkinter.filedialog import askopenfile"
   ]
  },
  {
   "cell_type": "code",
   "execution_count": 4,
   "id": "f9ce0323",
   "metadata": {},
   "outputs": [],
   "source": [
    "class UserInterface():\n",
    "    \"\"\"Generate distance matrix from uploaded addresses\"\"\"\n",
    "    @classmethod\n",
    "    def upload_file(cls):\n",
    "        \"\"\"Function to collect the file path\"\"\"\n",
    "\n",
    "        filepath = askopenfile(mode='r',\n",
    "                               filetypes=[('Excel Files', '.xlsx .xlsm')])\n",
    "\n",
    "        # Delete button for new text\n",
    "        try:\n",
    "            cls.upload_text.destroy()\n",
    "            cls.upload_text = Label(cls.root)\n",
    "            cls.upload_text.grid(row=1, columnspan=3)\n",
    "        except:\n",
    "            cls.upload_text = Label(cls.root)\n",
    "            cls.upload_text.grid(row=1, columnspan=3)\n",
    "\n",
    "        if filepath is None:\n",
    "            cls.upload_text['text'] = 'No File Uploaded, Retry!'\n",
    "            cls.upload_text['foreground'] = 'red'\n",
    "        else:\n",
    "            cls.filepath = filepath.name\n",
    "            cls.upload_text[\n",
    "                'text'] = f\"{cls.filepath[-filepath.name[::-1].index('/'):]} \\nUploaded Successfully!\"\n",
    "            cls.upload_text['foreground'] = 'green'\n",
    "\n",
    "            cls.upload_button = 'Reupload'\n",
    "            DistanceMatrix.filepath = cls.filepath\n",
    "            \n",
    "\n",
    "    @classmethod\n",
    "    def run_generation(cls):\n",
    "        \"\"\"Generate distance matrix from factories to customers\"\"\"\n",
    "\n",
    "        try:\n",
    "            cls.generate_text.destroy()\n",
    "        except:\n",
    "            cls.generate_text = Label(cls.root,\n",
    "                                      text='Generating Distances ...')\n",
    "            cls.generate_text.grid(row=3, columnspan=3, padx=10)\n",
    "        else:\n",
    "            cls.generate_text = Label(cls.root,\n",
    "                                      text='Generating Distances ...')\n",
    "            cls.generate_text.grid(row=3, columnspan=3, padx=10)\n",
    "\n",
    "        try:\n",
    "            DistanceMatrix.generate_distances()\n",
    "        except:\n",
    "            cls.generate_text[\n",
    "                'text'] = 'Error! See terminal for details\\n Fix the error and click Execute to continue'\n",
    "            cls.generate_text['foreground'] = 'red'\n",
    "        else:\n",
    "            cls.generate_text['text'] = 'Distances Generated Successfully'\n",
    "            cls.generate_text['foreground'] = 'green'\n",
    "\n",
    "    @classmethod\n",
    "    def user_interface(cls):\n",
    "        \"\"\"Upload and generate distance on a user interface\"\"\"\n",
    "\n",
    "        cls.root = Tk()\n",
    "        cls.root.title('Distance Matrix Tool')\n",
    "        cls.root.geometry('500x250')\n",
    "\n",
    "        # Upload file\n",
    "        cls.upload_prompt = Label(cls.root, text='Upload Data File')\n",
    "        cls.upload_prompt.grid(row=0, column=0, padx=10)\n",
    "\n",
    "        cls.upload_button = Button(\n",
    "            cls.root,\n",
    "            text='Upload File ',\n",
    "            command=cls.upload_file,\n",
    "        )\n",
    "        cls.upload_button.grid(row=0, column=1)\n",
    "\n",
    "        # Program prompt\n",
    "        cls.generate_prompt = Label(cls.root, text=\"Optimize Program\")\n",
    "        cls.generate_prompt.grid(row=2, column=0, padx=10)\n",
    "\n",
    "        # Execute button\n",
    "        cls.generate_button = Button(cls.root,\n",
    "                                     text='Execute',\n",
    "                                     command=cls.run_generation)\n",
    "        cls.generate_button.grid(row=2, column=1)\n",
    "\n",
    "        cls.root.mainloop()"
   ]
  },
  {
   "cell_type": "code",
   "execution_count": 5,
   "id": "0b22f9dd",
   "metadata": {},
   "outputs": [],
   "source": [
    "UserInterface.user_interface()"
   ]
  }
 ],
 "metadata": {
  "kernelspec": {
   "display_name": "Python 3 (ipykernel)",
   "language": "python",
   "name": "python3"
  },
  "language_info": {
   "codemirror_mode": {
    "name": "ipython",
    "version": 3
   },
   "file_extension": ".py",
   "mimetype": "text/x-python",
   "name": "python",
   "nbconvert_exporter": "python",
   "pygments_lexer": "ipython3",
   "version": "3.9.7"
  },
  "latex_envs": {
   "LaTeX_envs_menu_present": true,
   "autoclose": true,
   "autocomplete": true,
   "bibliofile": "biblio.bib",
   "cite_by": "apalike",
   "current_citInitial": 1,
   "eqLabelWithNumbers": true,
   "eqNumInitial": 1,
   "hotkeys": {
    "equation": "Ctrl-E",
    "itemize": "Ctrl-I"
   },
   "labels_anchors": false,
   "latex_user_defs": false,
   "report_style_numbering": false,
   "user_envs_cfg": false
  }
 },
 "nbformat": 4,
 "nbformat_minor": 5
}
